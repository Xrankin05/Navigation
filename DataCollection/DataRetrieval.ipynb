{
 "cells": [
  {
   "cell_type": "markdown",
   "metadata": {},
   "source": [
    "This code is for data collecting purposes. Collects the number of houses, restaurants, hospitals, etc. Still under development."
   ]
  },
  {
   "cell_type": "code",
   "execution_count": 1,
   "metadata": {},
   "outputs": [
    {
     "name": "stdout",
     "output_type": "stream",
     "text": [
      "Collecting osmnx\n",
      "  Using cached osmnx-2.0.1-py3-none-any.whl.metadata (4.9 kB)\n",
      "Collecting geopandas>=1.0 (from osmnx)\n",
      "  Using cached geopandas-1.0.1-py3-none-any.whl.metadata (2.2 kB)\n",
      "Collecting networkx>=2.5 (from osmnx)\n",
      "  Using cached networkx-3.4.2-py3-none-any.whl.metadata (6.3 kB)\n",
      "Collecting numpy>=1.22 (from osmnx)\n",
      "  Using cached numpy-2.2.3-cp311-cp311-win_amd64.whl.metadata (60 kB)\n",
      "Collecting pandas>=1.4 (from osmnx)\n",
      "  Using cached pandas-2.2.3-cp311-cp311-win_amd64.whl.metadata (19 kB)\n",
      "Collecting requests>=2.27 (from osmnx)\n",
      "  Using cached requests-2.32.3-py3-none-any.whl.metadata (4.6 kB)\n",
      "Collecting shapely>=2.0 (from osmnx)\n",
      "  Using cached shapely-2.0.7-cp311-cp311-win_amd64.whl.metadata (7.1 kB)\n",
      "Collecting pyogrio>=0.7.2 (from geopandas>=1.0->osmnx)\n",
      "  Using cached pyogrio-0.10.0-cp311-cp311-win_amd64.whl.metadata (5.6 kB)\n",
      "Requirement already satisfied: packaging in c:\\users\\tanis\\appdata\\local\\packages\\pythonsoftwarefoundation.python.3.11_qbz5n2kfra8p0\\localcache\\local-packages\\python311\\site-packages (from geopandas>=1.0->osmnx) (24.2)\n",
      "Collecting pyproj>=3.3.0 (from geopandas>=1.0->osmnx)\n",
      "  Using cached pyproj-3.7.1-cp311-cp311-win_amd64.whl.metadata (31 kB)\n",
      "Requirement already satisfied: python-dateutil>=2.8.2 in c:\\users\\tanis\\appdata\\local\\packages\\pythonsoftwarefoundation.python.3.11_qbz5n2kfra8p0\\localcache\\local-packages\\python311\\site-packages (from pandas>=1.4->osmnx) (2.9.0.post0)\n",
      "Collecting pytz>=2020.1 (from pandas>=1.4->osmnx)\n",
      "  Using cached pytz-2025.1-py2.py3-none-any.whl.metadata (22 kB)\n",
      "Collecting tzdata>=2022.7 (from pandas>=1.4->osmnx)\n",
      "  Using cached tzdata-2025.1-py2.py3-none-any.whl.metadata (1.4 kB)\n",
      "Collecting charset-normalizer<4,>=2 (from requests>=2.27->osmnx)\n",
      "  Using cached charset_normalizer-3.4.1-cp311-cp311-win_amd64.whl.metadata (36 kB)\n",
      "Collecting idna<4,>=2.5 (from requests>=2.27->osmnx)\n",
      "  Using cached idna-3.10-py3-none-any.whl.metadata (10 kB)\n",
      "Collecting urllib3<3,>=1.21.1 (from requests>=2.27->osmnx)\n",
      "  Using cached urllib3-2.3.0-py3-none-any.whl.metadata (6.5 kB)\n",
      "Collecting certifi>=2017.4.17 (from requests>=2.27->osmnx)\n",
      "  Using cached certifi-2025.1.31-py3-none-any.whl.metadata (2.5 kB)\n",
      "Requirement already satisfied: six>=1.5 in c:\\users\\tanis\\appdata\\local\\packages\\pythonsoftwarefoundation.python.3.11_qbz5n2kfra8p0\\localcache\\local-packages\\python311\\site-packages (from python-dateutil>=2.8.2->pandas>=1.4->osmnx) (1.17.0)\n",
      "Using cached osmnx-2.0.1-py3-none-any.whl (99 kB)\n",
      "Using cached geopandas-1.0.1-py3-none-any.whl (323 kB)\n",
      "Using cached networkx-3.4.2-py3-none-any.whl (1.7 MB)\n",
      "Using cached numpy-2.2.3-cp311-cp311-win_amd64.whl (12.9 MB)\n",
      "Using cached pandas-2.2.3-cp311-cp311-win_amd64.whl (11.6 MB)\n",
      "Using cached requests-2.32.3-py3-none-any.whl (64 kB)\n",
      "Using cached shapely-2.0.7-cp311-cp311-win_amd64.whl (1.4 MB)\n",
      "Using cached certifi-2025.1.31-py3-none-any.whl (166 kB)\n",
      "Using cached charset_normalizer-3.4.1-cp311-cp311-win_amd64.whl (102 kB)\n",
      "Using cached idna-3.10-py3-none-any.whl (70 kB)\n",
      "Using cached pyogrio-0.10.0-cp311-cp311-win_amd64.whl (16.2 MB)\n",
      "Using cached pyproj-3.7.1-cp311-cp311-win_amd64.whl (6.3 MB)\n",
      "Using cached pytz-2025.1-py2.py3-none-any.whl (507 kB)\n",
      "Using cached tzdata-2025.1-py2.py3-none-any.whl (346 kB)\n",
      "Using cached urllib3-2.3.0-py3-none-any.whl (128 kB)\n",
      "Installing collected packages: pytz, urllib3, tzdata, numpy, networkx, idna, charset-normalizer, certifi, shapely, requests, pyproj, pyogrio, pandas, geopandas, osmnx\n",
      "Successfully installed certifi-2025.1.31 charset-normalizer-3.4.1 geopandas-1.0.1 idna-3.10 networkx-3.4.2 numpy-2.2.3 osmnx-2.0.1 pandas-2.2.3 pyogrio-0.10.0 pyproj-3.7.1 pytz-2025.1 requests-2.32.3 shapely-2.0.7 tzdata-2025.1 urllib3-2.3.0\n",
      "Note: you may need to restart the kernel to use updated packages.\n"
     ]
    },
    {
     "name": "stderr",
     "output_type": "stream",
     "text": [
      "\n",
      "[notice] A new release of pip is available: 24.0 -> 25.0.1\n",
      "[notice] To update, run: C:\\Users\\Tanis\\AppData\\Local\\Microsoft\\WindowsApps\\PythonSoftwareFoundation.Python.3.11_qbz5n2kfra8p0\\python.exe -m pip install --upgrade pip\n"
     ]
    }
   ],
   "source": [
    "%pip install osmnx"
   ]
  },
  {
   "cell_type": "code",
   "execution_count": 2,
   "metadata": {},
   "outputs": [],
   "source": [
    "import osmnx\n",
    "\n",
    "location = \"Manhattan, New York, USA\"\n",
    "graph = osmnx.graph_from_place(location)"
   ]
  },
  {
   "cell_type": "code",
   "execution_count": 3,
   "metadata": {},
   "outputs": [],
   "source": [
    "nodes, edges = osmnx.graph_to_gdfs(graph)"
   ]
  },
  {
   "cell_type": "code",
   "execution_count": 4,
   "metadata": {},
   "outputs": [
    {
     "data": {
      "text/html": [
       "<div>\n",
       "<style scoped>\n",
       "    .dataframe tbody tr th:only-of-type {\n",
       "        vertical-align: middle;\n",
       "    }\n",
       "\n",
       "    .dataframe tbody tr th {\n",
       "        vertical-align: top;\n",
       "    }\n",
       "\n",
       "    .dataframe thead th {\n",
       "        text-align: right;\n",
       "    }\n",
       "</style>\n",
       "<table border=\"1\" class=\"dataframe\">\n",
       "  <thead>\n",
       "    <tr style=\"text-align: right;\">\n",
       "      <th></th>\n",
       "      <th>y</th>\n",
       "      <th>x</th>\n",
       "      <th>street_count</th>\n",
       "      <th>highway</th>\n",
       "      <th>ref</th>\n",
       "      <th>railway</th>\n",
       "      <th>geometry</th>\n",
       "    </tr>\n",
       "    <tr>\n",
       "      <th>osmid</th>\n",
       "      <th></th>\n",
       "      <th></th>\n",
       "      <th></th>\n",
       "      <th></th>\n",
       "      <th></th>\n",
       "      <th></th>\n",
       "      <th></th>\n",
       "    </tr>\n",
       "  </thead>\n",
       "  <tbody>\n",
       "    <tr>\n",
       "      <th>30807314</th>\n",
       "      <td>40.790720</td>\n",
       "      <td>-73.963576</td>\n",
       "      <td>4</td>\n",
       "      <td>NaN</td>\n",
       "      <td>NaN</td>\n",
       "      <td>NaN</td>\n",
       "      <td>POINT (-73.96358 40.79072)</td>\n",
       "    </tr>\n",
       "    <tr>\n",
       "      <th>30978747</th>\n",
       "      <td>40.774267</td>\n",
       "      <td>-73.973425</td>\n",
       "      <td>4</td>\n",
       "      <td>NaN</td>\n",
       "      <td>NaN</td>\n",
       "      <td>NaN</td>\n",
       "      <td>POINT (-73.97342 40.77427)</td>\n",
       "    </tr>\n",
       "    <tr>\n",
       "      <th>30978752</th>\n",
       "      <td>40.774769</td>\n",
       "      <td>-73.974393</td>\n",
       "      <td>4</td>\n",
       "      <td>NaN</td>\n",
       "      <td>NaN</td>\n",
       "      <td>NaN</td>\n",
       "      <td>POINT (-73.97439 40.77477)</td>\n",
       "    </tr>\n",
       "    <tr>\n",
       "      <th>42421728</th>\n",
       "      <td>40.798048</td>\n",
       "      <td>-73.960044</td>\n",
       "      <td>3</td>\n",
       "      <td>traffic_signals</td>\n",
       "      <td>NaN</td>\n",
       "      <td>NaN</td>\n",
       "      <td>POINT (-73.96004 40.79805)</td>\n",
       "    </tr>\n",
       "    <tr>\n",
       "      <th>42421731</th>\n",
       "      <td>40.798654</td>\n",
       "      <td>-73.961474</td>\n",
       "      <td>4</td>\n",
       "      <td>traffic_signals</td>\n",
       "      <td>NaN</td>\n",
       "      <td>NaN</td>\n",
       "      <td>POINT (-73.96147 40.79865)</td>\n",
       "    </tr>\n",
       "  </tbody>\n",
       "</table>\n",
       "</div>"
      ],
      "text/plain": [
       "                  y          x  street_count          highway  ref railway  \\\n",
       "osmid                                                                        \n",
       "30807314  40.790720 -73.963576             4              NaN  NaN     NaN   \n",
       "30978747  40.774267 -73.973425             4              NaN  NaN     NaN   \n",
       "30978752  40.774769 -73.974393             4              NaN  NaN     NaN   \n",
       "42421728  40.798048 -73.960044             3  traffic_signals  NaN     NaN   \n",
       "42421731  40.798654 -73.961474             4  traffic_signals  NaN     NaN   \n",
       "\n",
       "                            geometry  \n",
       "osmid                                 \n",
       "30807314  POINT (-73.96358 40.79072)  \n",
       "30978747  POINT (-73.97342 40.77427)  \n",
       "30978752  POINT (-73.97439 40.77477)  \n",
       "42421728  POINT (-73.96004 40.79805)  \n",
       "42421731  POINT (-73.96147 40.79865)  "
      ]
     },
     "execution_count": 4,
     "metadata": {},
     "output_type": "execute_result"
    }
   ],
   "source": [
    "nodes.head()"
   ]
  },
  {
   "cell_type": "code",
   "execution_count": 5,
   "metadata": {},
   "outputs": [
    {
     "data": {
      "text/plain": [
       "46326"
      ]
     },
     "execution_count": 5,
     "metadata": {},
     "output_type": "execute_result"
    }
   ],
   "source": [
    "buildings = osmnx.features_from_place(location,{\"building\": True})\n",
    "len(buildings)"
   ]
  },
  {
   "cell_type": "code",
   "execution_count": 6,
   "metadata": {},
   "outputs": [
    {
     "data": {
      "text/plain": [
       "37"
      ]
     },
     "execution_count": 6,
     "metadata": {},
     "output_type": "execute_result"
    }
   ],
   "source": [
    "hospitals = osmnx.features_from_place(location, {\"amenity\": \"hospital\"})\n",
    "len(hospitals)"
   ]
  },
  {
   "cell_type": "code",
   "execution_count": 7,
   "metadata": {},
   "outputs": [
    {
     "data": {
      "text/plain": [
       "64"
      ]
     },
     "execution_count": 7,
     "metadata": {},
     "output_type": "execute_result"
    }
   ],
   "source": [
    "universities = osmnx.features_from_place(location, {\"amenity\" : \"university\"})\n",
    "len(universities)"
   ]
  },
  {
   "cell_type": "code",
   "execution_count": 8,
   "metadata": {},
   "outputs": [
    {
     "data": {
      "text/plain": [
       "1153"
      ]
     },
     "execution_count": 8,
     "metadata": {},
     "output_type": "execute_result"
    }
   ],
   "source": [
    "cafe = osmnx.features_from_place(location, {\"amenity\" : \"cafe\"})\n",
    "len(cafe)"
   ]
  },
  {
   "cell_type": "code",
   "execution_count": 9,
   "metadata": {},
   "outputs": [
    {
     "data": {
      "text/plain": [
       "197"
      ]
     },
     "execution_count": 9,
     "metadata": {},
     "output_type": "execute_result"
    }
   ],
   "source": [
    "bakery = osmnx.features_from_place(location, {\"shop\" : \"bakery\"})\n",
    "len(bakery)"
   ]
  }
 ],
 "metadata": {
  "kernelspec": {
   "display_name": "Python 3",
   "language": "python",
   "name": "python3"
  },
  "language_info": {
   "codemirror_mode": {
    "name": "ipython",
    "version": 3
   },
   "file_extension": ".py",
   "mimetype": "text/x-python",
   "name": "python",
   "nbconvert_exporter": "python",
   "pygments_lexer": "ipython3",
   "version": "3.11.9"
  }
 },
 "nbformat": 4,
 "nbformat_minor": 2
}
